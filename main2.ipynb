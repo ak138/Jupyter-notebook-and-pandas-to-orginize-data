{
 "cells": [
  {
   "cell_type": "code",
   "execution_count": 32,
   "metadata": {},
   "outputs": [
    {
     "name": "stdout",
     "output_type": "stream",
     "text": [
      "  Last name      \"First name\"               \"SSN\"          \"Test1\"   \"Test2\"   \"Test3\"   \"Test4\"   \"Final\"  \"Grade\"\n",
      "0   Alfalfa        \"Aloysius\"       \"123-45-6789\"             40.0      90.0     100.0      83.0      49.0     \"D-\"\n",
      "1    Alfred      \"University\"       \"123-12-1234\"             41.0      97.0      96.0      97.0      48.0     \"D+\"\n",
      "2     Gerty          \"Gramma\"       \"567-89-0123\"             41.0      80.0      60.0      40.0      44.0      \"C\"\n",
      "3   Android        \"Electric\"       \"087-65-4321\"             42.0      23.0      36.0      45.0      47.0     \"B-\"\n"
     ]
    },
    {
     "data": {
      "text/plain": [
       "(4, 9)"
      ]
     },
     "execution_count": 32,
     "metadata": {},
     "output_type": "execute_result"
    }
   ],
   "source": [
    "import pandas as pd\n",
    "\n",
    "df=pd.read_csv('data.csv')\n",
    "df.drop_duplicates(inplace=True)\n",
    "\n",
    "print(df.to_string())\n",
    "df.shape\n",
    "\n"
   ]
  }
 ],
 "metadata": {
  "kernelspec": {
   "display_name": "myenv",
   "language": "python",
   "name": "python3"
  },
  "language_info": {
   "codemirror_mode": {
    "name": "ipython",
    "version": 3
   },
   "file_extension": ".py",
   "mimetype": "text/x-python",
   "name": "python",
   "nbconvert_exporter": "python",
   "pygments_lexer": "ipython3",
   "version": "3.11.0"
  }
 },
 "nbformat": 4,
 "nbformat_minor": 2
}
